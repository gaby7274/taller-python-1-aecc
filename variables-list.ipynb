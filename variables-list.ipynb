{
 "cells": [
  {
   "cell_type": "markdown",
   "metadata": {},
   "source": [
    "# Variables"
   ]
  },
  {
   "cell_type": "code",
   "execution_count": 1,
   "metadata": {},
   "outputs": [
    {
     "name": "stdout",
     "output_type": "stream",
     "text": [
      "5\n"
     ]
    }
   ],
   "source": [
    "x = 5\n",
    "print(x)"
   ]
  },
  {
   "cell_type": "code",
   "execution_count": 2,
   "metadata": {},
   "outputs": [
    {
     "name": "stdout",
     "output_type": "stream",
     "text": [
      "5\n"
     ]
    }
   ],
   "source": [
    "x = str(x)\n",
    "print(x)"
   ]
  },
  {
   "cell_type": "code",
   "execution_count": 3,
   "metadata": {},
   "outputs": [
    {
     "name": "stdout",
     "output_type": "stream",
     "text": [
      "5.0\n"
     ]
    }
   ],
   "source": [
    "x = float(x)\n",
    "print(x)"
   ]
  },
  {
   "cell_type": "code",
   "execution_count": 35,
   "metadata": {},
   "outputs": [
    {
     "ename": "TypeError",
     "evalue": "can only concatenate str (not \"int\") to str",
     "output_type": "error",
     "traceback": [
      "\u001b[1;31m---------------------------------------------------------------------------\u001b[0m",
      "\u001b[1;31mTypeError\u001b[0m                                 Traceback (most recent call last)",
      "Cell \u001b[1;32mIn [35], line 5\u001b[0m\n\u001b[0;32m      3\u001b[0m classroom_num \u001b[38;5;241m=\u001b[39m \u001b[38;5;241m141\u001b[39m\n\u001b[0;32m      4\u001b[0m y \u001b[38;5;241m=\u001b[39m \u001b[38;5;124m\"\u001b[39m\u001b[38;5;124mCCOM\u001b[39m\u001b[38;5;124m\"\u001b[39m\n\u001b[1;32m----> 5\u001b[0m z \u001b[38;5;241m=\u001b[39m \u001b[43mclassroom_letter\u001b[49m\u001b[43m \u001b[49m\u001b[38;5;241;43m+\u001b[39;49m\u001b[43m \u001b[49m\u001b[43mclassroom_num\u001b[49m\n\u001b[0;32m      6\u001b[0m \u001b[38;5;28mprint\u001b[39m(z)\n",
      "\u001b[1;31mTypeError\u001b[0m: can only concatenate str (not \"int\") to str"
     ]
    }
   ],
   "source": [
    "# cant mix non numeric types\n",
    "classroom_letter = 'A'\n",
    "classroom_num = 141\n",
    "y = \"CCOM\"\n",
    "z = classroom_letter + classroom_num\n",
    "print(z)"
   ]
  },
  {
   "cell_type": "code",
   "execution_count": 37,
   "metadata": {},
   "outputs": [
    {
     "name": "stdout",
     "output_type": "stream",
     "text": [
      "Bienvenide al dept de CCOM en el salon A-141\n",
      "Bienvenide al dept de CCOM en el salon A-141\n"
     ]
    }
   ],
   "source": [
    "print(\"Bienvenide al dept de {0} en el salon {1}-{2}\".format(y, classroom_letter, classroom_num))\n",
    "print(\"Bienvenide al dept de \" + y + \" en el salon \" + classroom_letter + '-' +  str(classroom_num))"
   ]
  },
  {
   "cell_type": "markdown",
   "metadata": {},
   "source": [
    "# Lists"
   ]
  },
  {
   "cell_type": "code",
   "execution_count": 19,
   "metadata": {},
   "outputs": [
    {
     "name": "stdout",
     "output_type": "stream",
     "text": [
      "0\n"
     ]
    }
   ],
   "source": [
    "# lists can contain any type of variable and can be changed\n",
    "# we can create empty lists like so:\n",
    "lista = []\n",
    "\n",
    "# we can verify a list is empty with the len() function or with a conditional statement\n",
    "print(len(lista))"
   ]
  },
  {
   "cell_type": "code",
   "execution_count": 5,
   "metadata": {},
   "outputs": [
    {
     "name": "stdout",
     "output_type": "stream",
     "text": [
      "The list is empty\n",
      "The list is empty\n"
     ]
    }
   ],
   "source": [
    "if len(lista) == 0:\n",
    "    print(\"The list is empty\")\n",
    "\n",
    "if lista:\n",
    "    print(\"The list is not empty\")\n",
    "\n",
    "else:\n",
    "    print(\"The list is empty\")\n"
   ]
  },
  {
   "cell_type": "code",
   "execution_count": 22,
   "metadata": {},
   "outputs": [
    {
     "name": "stdout",
     "output_type": "stream",
     "text": [
      "[1, '2', 3.0]\n"
     ]
    }
   ],
   "source": [
    "\n",
    "# we can append elements to a list with the append() method\n",
    "# since jupyter keeps memory of the appends in this cell, we check if the list is empty first\n",
    "# if so then we reset the list\n",
    "if lista:\n",
    "    lista = []\n",
    "\n",
    "lista.append(1)\n",
    "lista.append(str(2))\n",
    "lista.append(float(3))\n",
    "print(lista)\n"
   ]
  },
  {
   "cell_type": "code",
   "execution_count": 25,
   "metadata": {},
   "outputs": [
    {
     "name": "stdout",
     "output_type": "stream",
     "text": [
      "length of list:  3\n"
     ]
    }
   ],
   "source": [
    "# we can access the list also by its index\n",
    "print('length of list: ', len(lista))\n"
   ]
  },
  {
   "cell_type": "code",
   "execution_count": 26,
   "metadata": {},
   "outputs": [
    {
     "name": "stdout",
     "output_type": "stream",
     "text": [
      "1\n",
      "2\n",
      "3.0\n"
     ]
    }
   ],
   "source": [
    "# that means we can access the elements using index notation from 0 to 2\n",
    "print(lista[0])\n",
    "print(lista[1])\n",
    "print(lista[2])"
   ]
  },
  {
   "cell_type": "code",
   "execution_count": 27,
   "metadata": {},
   "outputs": [
    {
     "name": "stdout",
     "output_type": "stream",
     "text": [
      "<class 'int'>\n",
      "<class 'str'>\n",
      "<class 'float'>\n"
     ]
    }
   ],
   "source": [
    "print(type(lista[0]))\n",
    "print(type(lista[1]))\n",
    "print(type(lista[2]))"
   ]
  },
  {
   "cell_type": "code",
   "execution_count": 30,
   "metadata": {},
   "outputs": [
    {
     "name": "stdout",
     "output_type": "stream",
     "text": [
      "1\n",
      "2\n",
      "3.0\n"
     ]
    }
   ],
   "source": [
    "# we can also access the elements using negative index notation from -3 to -1\n",
    "# -1 being the last element of the list \n",
    "print(lista[-3])\n",
    "print(lista[-2])\n",
    "print(lista[-1])"
   ]
  },
  {
   "cell_type": "code",
   "execution_count": 31,
   "metadata": {},
   "outputs": [
    {
     "name": "stdout",
     "output_type": "stream",
     "text": [
      "1\n",
      "2\n",
      "3\n"
     ]
    }
   ],
   "source": [
    "# we can also access the elements using a for loop\n",
    "for items in lista:\n",
    "    print(int(items))"
   ]
  }
 ],
 "metadata": {
  "kernelspec": {
   "display_name": "Python 3.8.2 64-bit",
   "language": "python",
   "name": "python3"
  },
  "language_info": {
   "codemirror_mode": {
    "name": "ipython",
    "version": 3
   },
   "file_extension": ".py",
   "mimetype": "text/x-python",
   "name": "python",
   "nbconvert_exporter": "python",
   "pygments_lexer": "ipython3",
   "version": "3.8.2"
  },
  "orig_nbformat": 4,
  "vscode": {
   "interpreter": {
    "hash": "b1187bf84ede030aa8fef7ae6232353f207a907e0491e4c514158441ca93312e"
   }
  }
 },
 "nbformat": 4,
 "nbformat_minor": 2
}
